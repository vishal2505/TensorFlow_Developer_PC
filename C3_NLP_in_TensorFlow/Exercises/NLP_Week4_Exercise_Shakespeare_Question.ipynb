{
  "nbformat": 4,
  "nbformat_minor": 0,
  "metadata": {
    "accelerator": "GPU",
    "colab": {
      "name": "NLP_Week4_Exercise_Shakespeare_Question.ipynb",
      "provenance": [],
      "toc_visible": true,
      "include_colab_link": true
    },
    "kernelspec": {
      "display_name": "Python 3",
      "name": "python3"
    }
  },
  "cells": [
    {
      "cell_type": "markdown",
      "metadata": {
        "id": "view-in-github",
        "colab_type": "text"
      },
      "source": [
        "<a href=\"https://colab.research.google.com/github/vishal2505/TensorFlow_Developer_PC/blob/main/C3_NLP_in_TensorFlow/Exercises/NLP_Week4_Exercise_Shakespeare_Question.ipynb\" target=\"_parent\"><img src=\"https://colab.research.google.com/assets/colab-badge.svg\" alt=\"Open In Colab\"/></a>"
      ]
    },
    {
      "cell_type": "code",
      "metadata": {
        "id": "zX4Kg8DUTKWO"
      },
      "source": [
        "#@title Licensed under the Apache License, Version 2.0 (the \"License\");\n",
        "# you may not use this file except in compliance with the License.\n",
        "# You may obtain a copy of the License at\n",
        "#\n",
        "# https://www.apache.org/licenses/LICENSE-2.0\n",
        "#\n",
        "# Unless required by applicable law or agreed to in writing, software\n",
        "# distributed under the License is distributed on an \"AS IS\" BASIS,\n",
        "# WITHOUT WARRANTIES OR CONDITIONS OF ANY KIND, either express or implied.\n",
        "# See the License for the specific language governing permissions and\n",
        "# limitations under the License."
      ],
      "execution_count": null,
      "outputs": []
    },
    {
      "cell_type": "code",
      "metadata": {
        "id": "BOwsuGQQY9OL"
      },
      "source": [
        "from tensorflow.keras.preprocessing.sequence import pad_sequences\n",
        "from tensorflow.keras.layers import Embedding, LSTM, Dense, Dropout, Bidirectional\n",
        "from tensorflow.keras.preprocessing.text import Tokenizer\n",
        "from tensorflow.keras.models import Sequential\n",
        "from tensorflow.keras.optimizers import Adam\n",
        "### YOUR CODE HERE\n",
        "from tensorflow.keras import regularizers\n",
        "###\n",
        "import tensorflow.keras.utils as ku \n",
        "import numpy as np "
      ],
      "execution_count": 4,
      "outputs": []
    },
    {
      "cell_type": "code",
      "metadata": {
        "colab": {
          "base_uri": "https://localhost:8080/"
        },
        "id": "PRnDnCW-Z7qv",
        "outputId": "b72d38e3-cc58-4301-b0e1-c3e937d904e3"
      },
      "source": [
        "tokenizer = Tokenizer()\n",
        "!wget --no-check-certificate \\\n",
        "    https://storage.googleapis.com/laurencemoroney-blog.appspot.com/sonnets.txt \\\n",
        "    -O /tmp/sonnets.txt\n",
        "data = open('/tmp/sonnets.txt').read()\n",
        "\n",
        "corpus = data.lower().split(\"\\n\")\n",
        "\n",
        "\n",
        "tokenizer.fit_on_texts(corpus)\n",
        "total_words = len(tokenizer.word_index) + 1\n",
        "\n",
        "# create input sequences using list of tokens\n",
        "input_sequences = []\n",
        "for line in corpus:\n",
        "\ttoken_list = tokenizer.texts_to_sequences([line])[0]\n",
        "\tfor i in range(1, len(token_list)):\n",
        "\t\tn_gram_sequence = token_list[:i+1]\n",
        "\t\tinput_sequences.append(n_gram_sequence)\n",
        "\n",
        "\n",
        "# pad sequences \n",
        "max_sequence_len = max([len(x) for x in input_sequences])\n",
        "input_sequences = np.array(pad_sequences(input_sequences, maxlen=max_sequence_len, padding='pre'))\n",
        "\n",
        "# create predictors and label\n",
        "predictors, label = input_sequences[:,:-1],input_sequences[:,-1]\n",
        "\n",
        "label = ku.to_categorical(label, num_classes=total_words)"
      ],
      "execution_count": 2,
      "outputs": [
        {
          "output_type": "stream",
          "text": [
            "--2021-07-13 04:36:24--  https://storage.googleapis.com/laurencemoroney-blog.appspot.com/sonnets.txt\n",
            "Resolving storage.googleapis.com (storage.googleapis.com)... 172.253.117.128, 74.125.142.128, 74.125.195.128, ...\n",
            "Connecting to storage.googleapis.com (storage.googleapis.com)|172.253.117.128|:443... connected.\n",
            "HTTP request sent, awaiting response... 200 OK\n",
            "Length: 93578 (91K) [text/plain]\n",
            "Saving to: ‘/tmp/sonnets.txt’\n",
            "\n",
            "\r/tmp/sonnets.txt      0%[                    ]       0  --.-KB/s               \r/tmp/sonnets.txt    100%[===================>]  91.38K  --.-KB/s    in 0.001s  \n",
            "\n",
            "2021-07-13 04:36:25 (98.5 MB/s) - ‘/tmp/sonnets.txt’ saved [93578/93578]\n",
            "\n"
          ],
          "name": "stdout"
        }
      ]
    },
    {
      "cell_type": "code",
      "metadata": {
        "colab": {
          "base_uri": "https://localhost:8080/"
        },
        "id": "w9vH8Y59ajYL",
        "outputId": "2bf3102a-482a-4657-955a-844a9f684477"
      },
      "source": [
        "model = Sequential()\n",
        "model.add(Embedding(total_words, 100,input_length=max_sequence_len-1))\n",
        "model.add(Bidirectional(LSTM(64,return_sequences=True)))\n",
        "model.add(Dropout(0.2))\n",
        "model.add(LSTM(32))\n",
        "model.add(Dense(total_words/2, activation='relu',kernel_regularizer=regularizers.l2(0.01)))\n",
        "model.add(Dense(total_words, activation='softmax'))\n",
        "# Pick an optimizer\n",
        "model.compile(loss='categorical_crossentropy', optimizer='adam', metrics=['accuracy'])\n",
        "print(model.summary())\n"
      ],
      "execution_count": 5,
      "outputs": [
        {
          "output_type": "stream",
          "text": [
            "Model: \"sequential_1\"\n",
            "_________________________________________________________________\n",
            "Layer (type)                 Output Shape              Param #   \n",
            "=================================================================\n",
            "embedding_1 (Embedding)      (None, 10, 100)           321100    \n",
            "_________________________________________________________________\n",
            "bidirectional_1 (Bidirection (None, 10, 128)           84480     \n",
            "_________________________________________________________________\n",
            "dropout_1 (Dropout)          (None, 10, 128)           0         \n",
            "_________________________________________________________________\n",
            "lstm_3 (LSTM)                (None, 32)                20608     \n",
            "_________________________________________________________________\n",
            "dense (Dense)                (None, 1605)              52965     \n",
            "_________________________________________________________________\n",
            "dense_1 (Dense)              (None, 3211)              5156866   \n",
            "=================================================================\n",
            "Total params: 5,636,019\n",
            "Trainable params: 5,636,019\n",
            "Non-trainable params: 0\n",
            "_________________________________________________________________\n",
            "None\n"
          ],
          "name": "stdout"
        }
      ]
    },
    {
      "cell_type": "code",
      "metadata": {
        "colab": {
          "base_uri": "https://localhost:8080/"
        },
        "id": "AIg2f1HBxqof",
        "outputId": "3b001cb4-4607-4703-85c0-ba75c7da923a"
      },
      "source": [
        " history = model.fit(predictors, label, epochs=100, verbose=1)"
      ],
      "execution_count": 6,
      "outputs": [
        {
          "output_type": "stream",
          "text": [
            "Epoch 1/100\n",
            "484/484 [==============================] - 16s 12ms/step - loss: 6.8704 - accuracy: 0.0221\n",
            "Epoch 2/100\n",
            "484/484 [==============================] - 6s 12ms/step - loss: 6.4981 - accuracy: 0.0219\n",
            "Epoch 3/100\n",
            "484/484 [==============================] - 6s 12ms/step - loss: 6.4168 - accuracy: 0.0230\n",
            "Epoch 4/100\n",
            "484/484 [==============================] - 6s 12ms/step - loss: 6.3146 - accuracy: 0.0288\n",
            "Epoch 5/100\n",
            "484/484 [==============================] - 6s 12ms/step - loss: 6.2036 - accuracy: 0.0343\n",
            "Epoch 6/100\n",
            "484/484 [==============================] - 6s 12ms/step - loss: 6.1185 - accuracy: 0.0369\n",
            "Epoch 7/100\n",
            "484/484 [==============================] - 6s 12ms/step - loss: 6.0491 - accuracy: 0.0395\n",
            "Epoch 8/100\n",
            "484/484 [==============================] - 6s 12ms/step - loss: 5.9798 - accuracy: 0.0438\n",
            "Epoch 9/100\n",
            "484/484 [==============================] - 6s 12ms/step - loss: 5.9075 - accuracy: 0.0473\n",
            "Epoch 10/100\n",
            "484/484 [==============================] - 6s 12ms/step - loss: 5.8345 - accuracy: 0.0483\n",
            "Epoch 11/100\n",
            "484/484 [==============================] - 6s 12ms/step - loss: 5.7548 - accuracy: 0.0537\n",
            "Epoch 12/100\n",
            "484/484 [==============================] - 6s 12ms/step - loss: 5.6801 - accuracy: 0.0578\n",
            "Epoch 13/100\n",
            "484/484 [==============================] - 6s 12ms/step - loss: 5.5943 - accuracy: 0.0629\n",
            "Epoch 14/100\n",
            "484/484 [==============================] - 6s 12ms/step - loss: 5.5189 - accuracy: 0.0655\n",
            "Epoch 15/100\n",
            "484/484 [==============================] - 6s 12ms/step - loss: 5.4353 - accuracy: 0.0719\n",
            "Epoch 16/100\n",
            "484/484 [==============================] - 6s 12ms/step - loss: 5.3610 - accuracy: 0.0757\n",
            "Epoch 17/100\n",
            "484/484 [==============================] - 6s 12ms/step - loss: 5.2762 - accuracy: 0.0819\n",
            "Epoch 18/100\n",
            "484/484 [==============================] - 6s 12ms/step - loss: 5.2045 - accuracy: 0.0882\n",
            "Epoch 19/100\n",
            "484/484 [==============================] - 6s 12ms/step - loss: 5.1316 - accuracy: 0.0938\n",
            "Epoch 20/100\n",
            "484/484 [==============================] - 6s 12ms/step - loss: 5.0582 - accuracy: 0.0979\n",
            "Epoch 21/100\n",
            "484/484 [==============================] - 6s 12ms/step - loss: 4.9817 - accuracy: 0.1043\n",
            "Epoch 22/100\n",
            "484/484 [==============================] - 6s 12ms/step - loss: 4.9167 - accuracy: 0.1094\n",
            "Epoch 23/100\n",
            "484/484 [==============================] - 6s 12ms/step - loss: 4.8396 - accuracy: 0.1149\n",
            "Epoch 24/100\n",
            "484/484 [==============================] - 6s 12ms/step - loss: 4.7671 - accuracy: 0.1236\n",
            "Epoch 25/100\n",
            "484/484 [==============================] - 6s 12ms/step - loss: 4.6923 - accuracy: 0.1284\n",
            "Epoch 26/100\n",
            "484/484 [==============================] - 6s 12ms/step - loss: 4.6249 - accuracy: 0.1368\n",
            "Epoch 27/100\n",
            "484/484 [==============================] - 6s 12ms/step - loss: 4.5518 - accuracy: 0.1407\n",
            "Epoch 28/100\n",
            "484/484 [==============================] - 6s 12ms/step - loss: 4.4838 - accuracy: 0.1491\n",
            "Epoch 29/100\n",
            "484/484 [==============================] - 6s 12ms/step - loss: 4.4097 - accuracy: 0.1548\n",
            "Epoch 30/100\n",
            "484/484 [==============================] - 6s 12ms/step - loss: 4.3433 - accuracy: 0.1643\n",
            "Epoch 31/100\n",
            "484/484 [==============================] - 6s 12ms/step - loss: 4.2773 - accuracy: 0.1700\n",
            "Epoch 32/100\n",
            "484/484 [==============================] - 6s 12ms/step - loss: 4.2145 - accuracy: 0.1753\n",
            "Epoch 33/100\n",
            "484/484 [==============================] - 6s 12ms/step - loss: 4.1455 - accuracy: 0.1870\n",
            "Epoch 34/100\n",
            "484/484 [==============================] - 6s 12ms/step - loss: 4.0778 - accuracy: 0.1973\n",
            "Epoch 35/100\n",
            "484/484 [==============================] - 6s 12ms/step - loss: 4.0180 - accuracy: 0.2048\n",
            "Epoch 36/100\n",
            "484/484 [==============================] - 6s 12ms/step - loss: 3.9615 - accuracy: 0.2138\n",
            "Epoch 37/100\n",
            "484/484 [==============================] - 6s 12ms/step - loss: 3.9045 - accuracy: 0.2216\n",
            "Epoch 38/100\n",
            "484/484 [==============================] - 6s 12ms/step - loss: 3.8425 - accuracy: 0.2333\n",
            "Epoch 39/100\n",
            "484/484 [==============================] - 6s 12ms/step - loss: 3.7868 - accuracy: 0.2421\n",
            "Epoch 40/100\n",
            "484/484 [==============================] - 6s 12ms/step - loss: 3.7361 - accuracy: 0.2508\n",
            "Epoch 41/100\n",
            "484/484 [==============================] - 6s 12ms/step - loss: 3.6859 - accuracy: 0.2619\n",
            "Epoch 42/100\n",
            "484/484 [==============================] - 6s 12ms/step - loss: 3.6365 - accuracy: 0.2736\n",
            "Epoch 43/100\n",
            "484/484 [==============================] - 6s 12ms/step - loss: 3.5695 - accuracy: 0.2839\n",
            "Epoch 44/100\n",
            "484/484 [==============================] - 6s 12ms/step - loss: 3.5284 - accuracy: 0.2947\n",
            "Epoch 45/100\n",
            "484/484 [==============================] - 6s 12ms/step - loss: 3.4855 - accuracy: 0.3013\n",
            "Epoch 46/100\n",
            "484/484 [==============================] - 6s 12ms/step - loss: 3.4380 - accuracy: 0.3111\n",
            "Epoch 47/100\n",
            "484/484 [==============================] - 6s 12ms/step - loss: 3.3824 - accuracy: 0.3256\n",
            "Epoch 48/100\n",
            "484/484 [==============================] - 6s 12ms/step - loss: 3.3473 - accuracy: 0.3275\n",
            "Epoch 49/100\n",
            "484/484 [==============================] - 6s 12ms/step - loss: 3.2958 - accuracy: 0.3431\n",
            "Epoch 50/100\n",
            "484/484 [==============================] - 6s 12ms/step - loss: 3.2545 - accuracy: 0.3476\n",
            "Epoch 51/100\n",
            "484/484 [==============================] - 6s 12ms/step - loss: 3.2170 - accuracy: 0.3556\n",
            "Epoch 52/100\n",
            "484/484 [==============================] - 6s 12ms/step - loss: 3.1784 - accuracy: 0.3615\n",
            "Epoch 53/100\n",
            "484/484 [==============================] - 6s 12ms/step - loss: 3.1342 - accuracy: 0.3724\n",
            "Epoch 54/100\n",
            "484/484 [==============================] - 6s 12ms/step - loss: 3.0927 - accuracy: 0.3810\n",
            "Epoch 55/100\n",
            "484/484 [==============================] - 6s 12ms/step - loss: 3.0619 - accuracy: 0.3928\n",
            "Epoch 56/100\n",
            "484/484 [==============================] - 6s 12ms/step - loss: 3.0141 - accuracy: 0.3960\n",
            "Epoch 57/100\n",
            "484/484 [==============================] - 6s 12ms/step - loss: 2.9854 - accuracy: 0.4060\n",
            "Epoch 58/100\n",
            "484/484 [==============================] - 6s 12ms/step - loss: 2.9461 - accuracy: 0.4106\n",
            "Epoch 59/100\n",
            "484/484 [==============================] - 6s 12ms/step - loss: 2.9141 - accuracy: 0.4164\n",
            "Epoch 60/100\n",
            "484/484 [==============================] - 6s 12ms/step - loss: 2.8762 - accuracy: 0.4248\n",
            "Epoch 61/100\n",
            "484/484 [==============================] - 6s 12ms/step - loss: 2.8380 - accuracy: 0.4344\n",
            "Epoch 62/100\n",
            "484/484 [==============================] - 6s 12ms/step - loss: 2.8087 - accuracy: 0.4459\n",
            "Epoch 63/100\n",
            "484/484 [==============================] - 6s 12ms/step - loss: 2.7698 - accuracy: 0.4533\n",
            "Epoch 64/100\n",
            "484/484 [==============================] - 6s 12ms/step - loss: 2.7494 - accuracy: 0.4554\n",
            "Epoch 65/100\n",
            "484/484 [==============================] - 6s 12ms/step - loss: 2.7116 - accuracy: 0.4602\n",
            "Epoch 66/100\n",
            "484/484 [==============================] - 6s 12ms/step - loss: 2.6767 - accuracy: 0.4682\n",
            "Epoch 67/100\n",
            "484/484 [==============================] - 6s 12ms/step - loss: 2.6595 - accuracy: 0.4745\n",
            "Epoch 68/100\n",
            "484/484 [==============================] - 6s 12ms/step - loss: 2.6215 - accuracy: 0.4836\n",
            "Epoch 69/100\n",
            "484/484 [==============================] - 6s 12ms/step - loss: 2.5914 - accuracy: 0.4899\n",
            "Epoch 70/100\n",
            "484/484 [==============================] - 6s 12ms/step - loss: 2.5707 - accuracy: 0.4943\n",
            "Epoch 71/100\n",
            "484/484 [==============================] - 6s 12ms/step - loss: 2.5368 - accuracy: 0.4967\n",
            "Epoch 72/100\n",
            "484/484 [==============================] - 6s 12ms/step - loss: 2.5234 - accuracy: 0.5025\n",
            "Epoch 73/100\n",
            "484/484 [==============================] - 6s 12ms/step - loss: 2.4895 - accuracy: 0.5085\n",
            "Epoch 74/100\n",
            "484/484 [==============================] - 6s 12ms/step - loss: 2.4466 - accuracy: 0.5176\n",
            "Epoch 75/100\n",
            "484/484 [==============================] - 6s 12ms/step - loss: 2.4234 - accuracy: 0.5266\n",
            "Epoch 76/100\n",
            "484/484 [==============================] - 6s 12ms/step - loss: 2.4026 - accuracy: 0.5309\n",
            "Epoch 77/100\n",
            "484/484 [==============================] - 6s 12ms/step - loss: 2.3938 - accuracy: 0.5283\n",
            "Epoch 78/100\n",
            "484/484 [==============================] - 6s 12ms/step - loss: 2.3478 - accuracy: 0.5419\n",
            "Epoch 79/100\n",
            "484/484 [==============================] - 6s 12ms/step - loss: 2.3298 - accuracy: 0.5476\n",
            "Epoch 80/100\n",
            "484/484 [==============================] - 6s 12ms/step - loss: 2.3160 - accuracy: 0.5472\n",
            "Epoch 81/100\n",
            "484/484 [==============================] - 6s 12ms/step - loss: 2.2965 - accuracy: 0.5478\n",
            "Epoch 82/100\n",
            "484/484 [==============================] - 6s 12ms/step - loss: 2.2576 - accuracy: 0.5617\n",
            "Epoch 83/100\n",
            "484/484 [==============================] - 6s 12ms/step - loss: 2.2321 - accuracy: 0.5694\n",
            "Epoch 84/100\n",
            "484/484 [==============================] - 6s 12ms/step - loss: 2.2208 - accuracy: 0.5676\n",
            "Epoch 85/100\n",
            "484/484 [==============================] - 6s 12ms/step - loss: 2.1941 - accuracy: 0.5759\n",
            "Epoch 86/100\n",
            "484/484 [==============================] - 6s 12ms/step - loss: 2.1783 - accuracy: 0.5738\n",
            "Epoch 87/100\n",
            "484/484 [==============================] - 6s 12ms/step - loss: 2.1551 - accuracy: 0.5815\n",
            "Epoch 88/100\n",
            "484/484 [==============================] - 6s 12ms/step - loss: 2.1375 - accuracy: 0.5935\n",
            "Epoch 89/100\n",
            "484/484 [==============================] - 6s 12ms/step - loss: 2.1170 - accuracy: 0.5924\n",
            "Epoch 90/100\n",
            "484/484 [==============================] - 6s 12ms/step - loss: 2.0981 - accuracy: 0.5924\n",
            "Epoch 91/100\n",
            "484/484 [==============================] - 6s 12ms/step - loss: 2.0916 - accuracy: 0.5956\n",
            "Epoch 92/100\n",
            "484/484 [==============================] - 6s 12ms/step - loss: 2.0606 - accuracy: 0.6024\n",
            "Epoch 93/100\n",
            "484/484 [==============================] - 6s 12ms/step - loss: 2.0357 - accuracy: 0.6088\n",
            "Epoch 94/100\n",
            "484/484 [==============================] - 6s 12ms/step - loss: 2.0246 - accuracy: 0.6110\n",
            "Epoch 95/100\n",
            "484/484 [==============================] - 6s 12ms/step - loss: 2.0047 - accuracy: 0.6153\n",
            "Epoch 96/100\n",
            "484/484 [==============================] - 6s 12ms/step - loss: 1.9887 - accuracy: 0.6200\n",
            "Epoch 97/100\n",
            "484/484 [==============================] - 6s 12ms/step - loss: 1.9848 - accuracy: 0.6187\n",
            "Epoch 98/100\n",
            "484/484 [==============================] - 6s 12ms/step - loss: 1.9599 - accuracy: 0.6228\n",
            "Epoch 99/100\n",
            "484/484 [==============================] - 6s 12ms/step - loss: 1.9319 - accuracy: 0.6298\n",
            "Epoch 100/100\n",
            "484/484 [==============================] - 6s 12ms/step - loss: 1.9265 - accuracy: 0.6305\n"
          ],
          "name": "stdout"
        }
      ]
    },
    {
      "cell_type": "code",
      "metadata": {
        "colab": {
          "base_uri": "https://localhost:8080/",
          "height": 545
        },
        "id": "1fXTEO3GJ282",
        "outputId": "5112e8fe-fdf8-4c61-8d14-5eddc8d100ca"
      },
      "source": [
        "import matplotlib.pyplot as plt\n",
        "acc = history.history['accuracy']\n",
        "loss = history.history['loss']\n",
        "\n",
        "epochs = range(len(acc))\n",
        "\n",
        "plt.plot(epochs, acc, 'b', label='Training accuracy')\n",
        "plt.title('Training accuracy')\n",
        "\n",
        "plt.figure()\n",
        "\n",
        "plt.plot(epochs, loss, 'b', label='Training Loss')\n",
        "plt.title('Training loss')\n",
        "plt.legend()\n",
        "\n",
        "plt.show()"
      ],
      "execution_count": 7,
      "outputs": [
        {
          "output_type": "display_data",
          "data": {
            "image/png": "[encoded data removed]",
            "text/plain": [
              "<Figure size 432x288 with 1 Axes>"
            ]
          },
          "metadata": {
            "tags": [],
            "needs_background": "light"
          }
        },
        {
          "output_type": "display_data",
          "data": {
            "image/png": "[encoded data removed]",
            "text/plain": [
              "<Figure size 432x288 with 1 Axes>"
            ]
          },
          "metadata": {
            "tags": [],
            "needs_background": "light"
          }
        }
      ]
    },
    {
      "cell_type": "code",
      "metadata": {
        "colab": {
          "base_uri": "https://localhost:8080/"
        },
        "id": "6Vc6PHgxa6Hm",
        "outputId": "23dccf02-17a5-4e15-937f-d53a406304df"
      },
      "source": [
        "seed_text = \"Help me Obi Wan Kenobi, you're my only hope\"\n",
        "next_words = 100\n",
        "  \n",
        "for _ in range(next_words):\n",
        "\ttoken_list = tokenizer.texts_to_sequences([seed_text])[0]\n",
        "\ttoken_list = pad_sequences([token_list], maxlen=max_sequence_len-1, padding='pre')\n",
        "\tpredicted = model.predict_classes(token_list, verbose=0)\n",
        "\toutput_word = \"\"\n",
        "\tfor word, index in tokenizer.word_index.items():\n",
        "\t\tif index == predicted:\n",
        "\t\t\toutput_word = word\n",
        "\t\t\tbreak\n",
        "\tseed_text += \" \" + output_word\n",
        "print(seed_text)"
      ],
      "execution_count": 8,
      "outputs": [
        {
          "output_type": "stream",
          "text": [
            "/usr/local/lib/python3.7/dist-packages/tensorflow/python/keras/engine/sequential.py:455: UserWarning: `model.predict_classes()` is deprecated and will be removed after 2021-01-01. Please use instead:* `np.argmax(model.predict(x), axis=-1)`,   if your model does multi-class classification   (e.g. if it uses a `softmax` last-layer activation).* `(model.predict(x) > 0.5).astype(\"int32\")`,   if your model does binary classification   (e.g. if it uses a `sigmoid` last-layer activation).\n",
            "  warnings.warn('`model.predict_classes()` is deprecated and '\n"
          ],
          "name": "stderr"
        },
        {
          "output_type": "stream",
          "text": [
            "Help me Obi Wan Kenobi, you're my only hope thy judgment's place thee arising ' best call none told thee prove none weeds mother winter's woe cold prime up slow date parts forth ' die twain men new ' prove thee so so eyes prove me so told room live eyes bring me boast in me dwell still live still repair live eyes eyes in thee in those can exceed devised gone and thee men eyes thee so prove eye thine eye new should both better days lived or water there new part new lies forsaken strong state new new new cheeks ' rehearse common stout remain so made\n"
          ],
          "name": "stdout"
        }
      ]
    }
  ]
}